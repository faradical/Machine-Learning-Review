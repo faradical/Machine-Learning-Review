{
 "cells": [
  {
   "cell_type": "markdown",
   "metadata": {},
   "source": [
    "<div style=\"padding:30px 0px;\">\n",
    "    <h1 align=\"center\" style=\"padding:50px\">Introduction to Pipelines</h1>\n",
    "    <p align=\"center\" style=\"font-size:small;\">Seth Pruitt<br>spruitt@norstal.com<br>www.github.com/faradical</p>\n",
    "</div>"
   ]
  },
  {
   "cell_type": "code",
   "execution_count": 1,
   "metadata": {},
   "outputs": [],
   "source": [
    "# Import Dependencies\n",
    "import matplotlib.pyplot as plt\n",
    "import pandas as pd\n",
    "import numpy as np\n",
    "import os\n",
    "\n",
    "from sklearn.linear_model import LinearRegression\n",
    "from sklearn.datasets import make_regression\n",
    "from sklearn.model_selection import train_test_split\n",
    "from sklearn.preprocessing import StandardScaler"
   ]
  },
  {
   "cell_type": "markdown",
   "metadata": {},
   "source": [
    "## Generating Synthetic Data"
   ]
  },
  {
   "cell_type": "code",
   "execution_count": 2,
   "metadata": {},
   "outputs": [
    {
     "data": {
      "text/html": [
       "<div>\n",
       "<style scoped>\n",
       "    .dataframe tbody tr th:only-of-type {\n",
       "        vertical-align: middle;\n",
       "    }\n",
       "\n",
       "    .dataframe tbody tr th {\n",
       "        vertical-align: top;\n",
       "    }\n",
       "\n",
       "    .dataframe thead th {\n",
       "        text-align: right;\n",
       "    }\n",
       "</style>\n",
       "<table border=\"1\" class=\"dataframe\">\n",
       "  <thead>\n",
       "    <tr style=\"text-align: right;\">\n",
       "      <th></th>\n",
       "      <th>0</th>\n",
       "      <th>1</th>\n",
       "      <th>2</th>\n",
       "      <th>3</th>\n",
       "      <th>4</th>\n",
       "      <th>5</th>\n",
       "      <th>6</th>\n",
       "      <th>7</th>\n",
       "      <th>8</th>\n",
       "      <th>9</th>\n",
       "    </tr>\n",
       "  </thead>\n",
       "  <tbody>\n",
       "    <tr>\n",
       "      <th>0</th>\n",
       "      <td>-0.771956</td>\n",
       "      <td>-1.011598</td>\n",
       "      <td>2.045661</td>\n",
       "      <td>-0.557215</td>\n",
       "      <td>0.078445</td>\n",
       "      <td>0.382450</td>\n",
       "      <td>-0.900398</td>\n",
       "      <td>1.248052</td>\n",
       "      <td>0.028342</td>\n",
       "      <td>-0.209263</td>\n",
       "    </tr>\n",
       "    <tr>\n",
       "      <th>1</th>\n",
       "      <td>-0.611959</td>\n",
       "      <td>0.958500</td>\n",
       "      <td>-0.563440</td>\n",
       "      <td>0.213837</td>\n",
       "      <td>-1.289285</td>\n",
       "      <td>1.596129</td>\n",
       "      <td>0.083678</td>\n",
       "      <td>0.493285</td>\n",
       "      <td>1.805893</td>\n",
       "      <td>1.211042</td>\n",
       "    </tr>\n",
       "    <tr>\n",
       "      <th>2</th>\n",
       "      <td>1.318432</td>\n",
       "      <td>0.247222</td>\n",
       "      <td>-0.060595</td>\n",
       "      <td>1.269384</td>\n",
       "      <td>1.115085</td>\n",
       "      <td>0.311037</td>\n",
       "      <td>-0.204427</td>\n",
       "      <td>-0.498243</td>\n",
       "      <td>-0.097647</td>\n",
       "      <td>0.598556</td>\n",
       "    </tr>\n",
       "    <tr>\n",
       "      <th>3</th>\n",
       "      <td>-0.143268</td>\n",
       "      <td>-1.134549</td>\n",
       "      <td>0.503527</td>\n",
       "      <td>-0.582122</td>\n",
       "      <td>-1.692000</td>\n",
       "      <td>0.987057</td>\n",
       "      <td>0.612473</td>\n",
       "      <td>0.157150</td>\n",
       "      <td>-1.636870</td>\n",
       "      <td>-0.694953</td>\n",
       "    </tr>\n",
       "    <tr>\n",
       "      <th>4</th>\n",
       "      <td>-0.029276</td>\n",
       "      <td>0.699258</td>\n",
       "      <td>0.565877</td>\n",
       "      <td>-0.044743</td>\n",
       "      <td>0.453428</td>\n",
       "      <td>-0.702453</td>\n",
       "      <td>0.925155</td>\n",
       "      <td>-0.745698</td>\n",
       "      <td>-0.824095</td>\n",
       "      <td>1.270423</td>\n",
       "    </tr>\n",
       "  </tbody>\n",
       "</table>\n",
       "</div>"
      ],
      "text/plain": [
       "          0         1         2         3         4         5         6  \\\n",
       "0 -0.771956 -1.011598  2.045661 -0.557215  0.078445  0.382450 -0.900398   \n",
       "1 -0.611959  0.958500 -0.563440  0.213837 -1.289285  1.596129  0.083678   \n",
       "2  1.318432  0.247222 -0.060595  1.269384  1.115085  0.311037 -0.204427   \n",
       "3 -0.143268 -1.134549  0.503527 -0.582122 -1.692000  0.987057  0.612473   \n",
       "4 -0.029276  0.699258  0.565877 -0.044743  0.453428 -0.702453  0.925155   \n",
       "\n",
       "          7         8         9  \n",
       "0  1.248052  0.028342 -0.209263  \n",
       "1  0.493285  1.805893  1.211042  \n",
       "2 -0.498243 -0.097647  0.598556  \n",
       "3  0.157150 -1.636870 -0.694953  \n",
       "4 -0.745698 -0.824095  1.270423  "
      ]
     },
     "execution_count": 2,
     "metadata": {},
     "output_type": "execute_result"
    }
   ],
   "source": [
    "# Generate a random regression dataset\n",
    "X, y = make_regression(n_samples=1000, n_features=10, noise=100)\n",
    "\n",
    "# Split the data into traing and testing sets\n",
    "X_train, X_test, y_train, y_test = train_test_split(X, y, random_state=42)\n",
    "pd.DataFrame(X_train).head()"
   ]
  },
  {
   "cell_type": "markdown",
   "metadata": {},
   "source": [
    "## Creating an Otherwise Unnecessary Function For Demo Purposes"
   ]
  },
  {
   "cell_type": "code",
   "execution_count": 3,
   "metadata": {},
   "outputs": [
    {
     "data": {
      "text/html": [
       "<div>\n",
       "<style scoped>\n",
       "    .dataframe tbody tr th:only-of-type {\n",
       "        vertical-align: middle;\n",
       "    }\n",
       "\n",
       "    .dataframe tbody tr th {\n",
       "        vertical-align: top;\n",
       "    }\n",
       "\n",
       "    .dataframe thead th {\n",
       "        text-align: right;\n",
       "    }\n",
       "</style>\n",
       "<table border=\"1\" class=\"dataframe\">\n",
       "  <thead>\n",
       "    <tr style=\"text-align: right;\">\n",
       "      <th></th>\n",
       "      <th>0</th>\n",
       "      <th>1</th>\n",
       "      <th>2</th>\n",
       "      <th>3</th>\n",
       "      <th>4</th>\n",
       "      <th>5</th>\n",
       "      <th>6</th>\n",
       "      <th>7</th>\n",
       "      <th>8</th>\n",
       "      <th>9</th>\n",
       "    </tr>\n",
       "  </thead>\n",
       "  <tbody>\n",
       "    <tr>\n",
       "      <th>0</th>\n",
       "      <td>-0.802033</td>\n",
       "      <td>-0.996948</td>\n",
       "      <td>1.963333</td>\n",
       "      <td>-0.613025</td>\n",
       "      <td>0.044991</td>\n",
       "      <td>0.439726</td>\n",
       "      <td>-0.854360</td>\n",
       "      <td>1.210124</td>\n",
       "      <td>-0.001120</td>\n",
       "      <td>-0.190335</td>\n",
       "    </tr>\n",
       "    <tr>\n",
       "      <th>1</th>\n",
       "      <td>-0.636596</td>\n",
       "      <td>0.979120</td>\n",
       "      <td>-0.612604</td>\n",
       "      <td>0.192750</td>\n",
       "      <td>-1.381577</td>\n",
       "      <td>1.693704</td>\n",
       "      <td>0.105697</td>\n",
       "      <td>0.476394</td>\n",
       "      <td>1.771889</td>\n",
       "      <td>1.227012</td>\n",
       "    </tr>\n",
       "    <tr>\n",
       "      <th>2</th>\n",
       "      <td>1.359422</td>\n",
       "      <td>0.265686</td>\n",
       "      <td>-0.116151</td>\n",
       "      <td>1.295831</td>\n",
       "      <td>1.126228</td>\n",
       "      <td>0.365943</td>\n",
       "      <td>-0.175376</td>\n",
       "      <td>-0.487500</td>\n",
       "      <td>-0.126787</td>\n",
       "      <td>0.615801</td>\n",
       "    </tr>\n",
       "    <tr>\n",
       "      <th>3</th>\n",
       "      <td>-0.151972</td>\n",
       "      <td>-1.120272</td>\n",
       "      <td>0.440801</td>\n",
       "      <td>-0.639054</td>\n",
       "      <td>-1.801616</td>\n",
       "      <td>1.064409</td>\n",
       "      <td>0.621586</td>\n",
       "      <td>0.149627</td>\n",
       "      <td>-1.662077</td>\n",
       "      <td>-0.675014</td>\n",
       "    </tr>\n",
       "    <tr>\n",
       "      <th>4</th>\n",
       "      <td>-0.034104</td>\n",
       "      <td>0.719092</td>\n",
       "      <td>0.502358</td>\n",
       "      <td>-0.077475</td>\n",
       "      <td>0.436106</td>\n",
       "      <td>-0.681198</td>\n",
       "      <td>0.926636</td>\n",
       "      <td>-0.728058</td>\n",
       "      <td>-0.851380</td>\n",
       "      <td>1.286269</td>\n",
       "    </tr>\n",
       "  </tbody>\n",
       "</table>\n",
       "</div>"
      ],
      "text/plain": [
       "          0         1         2         3         4         5         6  \\\n",
       "0 -0.802033 -0.996948  1.963333 -0.613025  0.044991  0.439726 -0.854360   \n",
       "1 -0.636596  0.979120 -0.612604  0.192750 -1.381577  1.693704  0.105697   \n",
       "2  1.359422  0.265686 -0.116151  1.295831  1.126228  0.365943 -0.175376   \n",
       "3 -0.151972 -1.120272  0.440801 -0.639054 -1.801616  1.064409  0.621586   \n",
       "4 -0.034104  0.719092  0.502358 -0.077475  0.436106 -0.681198  0.926636   \n",
       "\n",
       "          7         8         9  \n",
       "0  1.210124 -0.001120 -0.190335  \n",
       "1  0.476394  1.771889  1.227012  \n",
       "2 -0.487500 -0.126787  0.615801  \n",
       "3  0.149627 -1.662077 -0.675014  \n",
       "4 -0.728058 -0.851380  1.286269  "
      ]
     },
     "execution_count": 3,
     "metadata": {},
     "output_type": "execute_result"
    }
   ],
   "source": [
    "scaler = StandardScaler().fit(X_train)\n",
    "\n",
    "def pipe_scaler(X):\n",
    "    return scaler.transform(X)\n",
    "\n",
    "pd.DataFrame(pipe_scaler(X_train)).head()"
   ]
  },
  {
   "cell_type": "markdown",
   "metadata": {},
   "source": [
    "## Creating Our First Pipeline"
   ]
  },
  {
   "cell_type": "code",
   "execution_count": 4,
   "metadata": {},
   "outputs": [
    {
     "data": {
      "text/html": [
       "<style>#sk-container-id-1 {color: black;background-color: white;}#sk-container-id-1 pre{padding: 0;}#sk-container-id-1 div.sk-toggleable {background-color: white;}#sk-container-id-1 label.sk-toggleable__label {cursor: pointer;display: block;width: 100%;margin-bottom: 0;padding: 0.3em;box-sizing: border-box;text-align: center;}#sk-container-id-1 label.sk-toggleable__label-arrow:before {content: \"▸\";float: left;margin-right: 0.25em;color: #696969;}#sk-container-id-1 label.sk-toggleable__label-arrow:hover:before {color: black;}#sk-container-id-1 div.sk-estimator:hover label.sk-toggleable__label-arrow:before {color: black;}#sk-container-id-1 div.sk-toggleable__content {max-height: 0;max-width: 0;overflow: hidden;text-align: left;background-color: #f0f8ff;}#sk-container-id-1 div.sk-toggleable__content pre {margin: 0.2em;color: black;border-radius: 0.25em;background-color: #f0f8ff;}#sk-container-id-1 input.sk-toggleable__control:checked~div.sk-toggleable__content {max-height: 200px;max-width: 100%;overflow: auto;}#sk-container-id-1 input.sk-toggleable__control:checked~label.sk-toggleable__label-arrow:before {content: \"▾\";}#sk-container-id-1 div.sk-estimator input.sk-toggleable__control:checked~label.sk-toggleable__label {background-color: #d4ebff;}#sk-container-id-1 div.sk-label input.sk-toggleable__control:checked~label.sk-toggleable__label {background-color: #d4ebff;}#sk-container-id-1 input.sk-hidden--visually {border: 0;clip: rect(1px 1px 1px 1px);clip: rect(1px, 1px, 1px, 1px);height: 1px;margin: -1px;overflow: hidden;padding: 0;position: absolute;width: 1px;}#sk-container-id-1 div.sk-estimator {font-family: monospace;background-color: #f0f8ff;border: 1px dotted black;border-radius: 0.25em;box-sizing: border-box;margin-bottom: 0.5em;}#sk-container-id-1 div.sk-estimator:hover {background-color: #d4ebff;}#sk-container-id-1 div.sk-parallel-item::after {content: \"\";width: 100%;border-bottom: 1px solid gray;flex-grow: 1;}#sk-container-id-1 div.sk-label:hover label.sk-toggleable__label {background-color: #d4ebff;}#sk-container-id-1 div.sk-serial::before {content: \"\";position: absolute;border-left: 1px solid gray;box-sizing: border-box;top: 0;bottom: 0;left: 50%;z-index: 0;}#sk-container-id-1 div.sk-serial {display: flex;flex-direction: column;align-items: center;background-color: white;padding-right: 0.2em;padding-left: 0.2em;position: relative;}#sk-container-id-1 div.sk-item {position: relative;z-index: 1;}#sk-container-id-1 div.sk-parallel {display: flex;align-items: stretch;justify-content: center;background-color: white;position: relative;}#sk-container-id-1 div.sk-item::before, #sk-container-id-1 div.sk-parallel-item::before {content: \"\";position: absolute;border-left: 1px solid gray;box-sizing: border-box;top: 0;bottom: 0;left: 50%;z-index: -1;}#sk-container-id-1 div.sk-parallel-item {display: flex;flex-direction: column;z-index: 1;position: relative;background-color: white;}#sk-container-id-1 div.sk-parallel-item:first-child::after {align-self: flex-end;width: 50%;}#sk-container-id-1 div.sk-parallel-item:last-child::after {align-self: flex-start;width: 50%;}#sk-container-id-1 div.sk-parallel-item:only-child::after {width: 0;}#sk-container-id-1 div.sk-dashed-wrapped {border: 1px dashed gray;margin: 0 0.4em 0.5em 0.4em;box-sizing: border-box;padding-bottom: 0.4em;background-color: white;}#sk-container-id-1 div.sk-label label {font-family: monospace;font-weight: bold;display: inline-block;line-height: 1.2em;}#sk-container-id-1 div.sk-label-container {text-align: center;}#sk-container-id-1 div.sk-container {/* jupyter's `normalize.less` sets `[hidden] { display: none; }` but bootstrap.min.css set `[hidden] { display: none !important; }` so we also need the `!important` here to be able to override the default hidden behavior on the sphinx rendered scikit-learn.org. See: https://github.com/scikit-learn/scikit-learn/issues/21755 */display: inline-block !important;position: relative;}#sk-container-id-1 div.sk-text-repr-fallback {display: none;}</style><div id=\"sk-container-id-1\" class=\"sk-top-container\"><div class=\"sk-text-repr-fallback\"><pre>Pipeline(steps=[(&#x27;Scaler&#x27;,\n",
       "                 FunctionTransformer(func=&lt;function pipe_scaler at 0x00000289059101F0&gt;)),\n",
       "                (&#x27;Linear Regression&#x27;, LinearRegression())])</pre><b>In a Jupyter environment, please rerun this cell to show the HTML representation or trust the notebook. <br />On GitHub, the HTML representation is unable to render, please try loading this page with nbviewer.org.</b></div><div class=\"sk-container\" hidden><div class=\"sk-item sk-dashed-wrapped\"><div class=\"sk-label-container\"><div class=\"sk-label sk-toggleable\"><input class=\"sk-toggleable__control sk-hidden--visually\" id=\"sk-estimator-id-1\" type=\"checkbox\" ><label for=\"sk-estimator-id-1\" class=\"sk-toggleable__label sk-toggleable__label-arrow\">Pipeline</label><div class=\"sk-toggleable__content\"><pre>Pipeline(steps=[(&#x27;Scaler&#x27;,\n",
       "                 FunctionTransformer(func=&lt;function pipe_scaler at 0x00000289059101F0&gt;)),\n",
       "                (&#x27;Linear Regression&#x27;, LinearRegression())])</pre></div></div></div><div class=\"sk-serial\"><div class=\"sk-item\"><div class=\"sk-estimator sk-toggleable\"><input class=\"sk-toggleable__control sk-hidden--visually\" id=\"sk-estimator-id-2\" type=\"checkbox\" ><label for=\"sk-estimator-id-2\" class=\"sk-toggleable__label sk-toggleable__label-arrow\">FunctionTransformer</label><div class=\"sk-toggleable__content\"><pre>FunctionTransformer(func=&lt;function pipe_scaler at 0x00000289059101F0&gt;)</pre></div></div></div><div class=\"sk-item\"><div class=\"sk-estimator sk-toggleable\"><input class=\"sk-toggleable__control sk-hidden--visually\" id=\"sk-estimator-id-3\" type=\"checkbox\" ><label for=\"sk-estimator-id-3\" class=\"sk-toggleable__label sk-toggleable__label-arrow\">LinearRegression</label><div class=\"sk-toggleable__content\"><pre>LinearRegression()</pre></div></div></div></div></div></div></div>"
      ],
      "text/plain": [
       "Pipeline(steps=[('Scaler',\n",
       "                 FunctionTransformer(func=<function pipe_scaler at 0x00000289059101F0>)),\n",
       "                ('Linear Regression', LinearRegression())])"
      ]
     },
     "execution_count": 4,
     "metadata": {},
     "output_type": "execute_result"
    }
   ],
   "source": [
    "from sklearn.pipeline import Pipeline\n",
    "from sklearn.preprocessing import FunctionTransformer\n",
    "\n",
    "p1 = Pipeline([\n",
    "    (\"Scaler\", FunctionTransformer(pipe_scaler)),  # <---Transformer .fit + .transform\n",
    "    (\"Linear Regression\", LinearRegression())  # <---Estimator .fit + .predict\n",
    "])\n",
    "\n",
    "p1"
   ]
  },
  {
   "cell_type": "markdown",
   "metadata": {},
   "source": [
    "## Evaluating Our Piped Model"
   ]
  },
  {
   "cell_type": "code",
   "execution_count": 5,
   "metadata": {},
   "outputs": [
    {
     "data": {
      "text/plain": [
       "0.8075032814855791"
      ]
     },
     "execution_count": 5,
     "metadata": {},
     "output_type": "execute_result"
    }
   ],
   "source": [
    "p1.fit(X_train, y_train)\n",
    "p1.score(X_test, y_test)"
   ]
  },
  {
   "cell_type": "code",
   "execution_count": null,
   "metadata": {},
   "outputs": [],
   "source": []
  }
 ],
 "metadata": {
  "kernelspec": {
   "display_name": "Python 3",
   "language": "python",
   "name": "python3"
  },
  "language_info": {
   "codemirror_mode": {
    "name": "ipython",
    "version": 3
   },
   "file_extension": ".py",
   "mimetype": "text/x-python",
   "name": "python",
   "nbconvert_exporter": "python",
   "pygments_lexer": "ipython3",
   "version": "3.9.5"
  },
  "vscode": {
   "interpreter": {
    "hash": "81794d4967e6c3204c66dcd87b604927b115b27c00565d3d43f05ba2f3a2cb0d"
   }
  }
 },
 "nbformat": 4,
 "nbformat_minor": 4
}
