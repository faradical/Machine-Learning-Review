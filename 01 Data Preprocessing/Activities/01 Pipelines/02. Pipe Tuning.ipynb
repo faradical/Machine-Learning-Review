{
 "cells": [
  {
   "cell_type": "markdown",
   "metadata": {},
   "source": [
    "<div style=\"padding:30px 0px;\">\n",
    "    <h1 align=\"center\" style=\"padding:50px\">Hyperparameter Tuning With Pipelines</h1>\n",
    "    <p align=\"center\" style=\"font-size:small;\">Seth Pruitt<br>spruitt@norstal.com<br>www.github.com/faradical</p>\n",
    "</div>"
   ]
  },
  {
   "cell_type": "code",
   "execution_count": 1,
   "metadata": {},
   "outputs": [],
   "source": [
    "# Import Dependencies\n",
    "import matplotlib.pyplot as plt\n",
    "import pandas as pd\n",
    "import numpy as np\n",
    "import os\n",
    "\n",
    "from sklearn.linear_model import LinearRegression\n",
    "from sklearn.datasets import make_regression\n",
    "from sklearn.model_selection import train_test_split\n",
    "from sklearn.preprocessing import StandardScaler\n",
    "from sklearn.model_selection import GridSearchCV\n",
    "from sklearn.pipeline import Pipeline\n",
    "from sklearn.preprocessing import FunctionTransformer"
   ]
  },
  {
   "cell_type": "markdown",
   "metadata": {},
   "source": [
    "## Generating Synthetic Data"
   ]
  },
  {
   "cell_type": "code",
   "execution_count": 2,
   "metadata": {},
   "outputs": [
    {
     "data": {
      "text/html": [
       "<div>\n",
       "<style scoped>\n",
       "    .dataframe tbody tr th:only-of-type {\n",
       "        vertical-align: middle;\n",
       "    }\n",
       "\n",
       "    .dataframe tbody tr th {\n",
       "        vertical-align: top;\n",
       "    }\n",
       "\n",
       "    .dataframe thead th {\n",
       "        text-align: right;\n",
       "    }\n",
       "</style>\n",
       "<table border=\"1\" class=\"dataframe\">\n",
       "  <thead>\n",
       "    <tr style=\"text-align: right;\">\n",
       "      <th></th>\n",
       "      <th>0</th>\n",
       "      <th>1</th>\n",
       "      <th>2</th>\n",
       "      <th>3</th>\n",
       "      <th>4</th>\n",
       "      <th>5</th>\n",
       "      <th>6</th>\n",
       "      <th>7</th>\n",
       "      <th>8</th>\n",
       "      <th>9</th>\n",
       "    </tr>\n",
       "  </thead>\n",
       "  <tbody>\n",
       "    <tr>\n",
       "      <th>0</th>\n",
       "      <td>1.857179</td>\n",
       "      <td>1.363183</td>\n",
       "      <td>0.797154</td>\n",
       "      <td>-0.981250</td>\n",
       "      <td>0.273640</td>\n",
       "      <td>-0.299684</td>\n",
       "      <td>-2.068569</td>\n",
       "      <td>-0.119699</td>\n",
       "      <td>-0.154144</td>\n",
       "      <td>-1.541841</td>\n",
       "    </tr>\n",
       "    <tr>\n",
       "      <th>1</th>\n",
       "      <td>0.739978</td>\n",
       "      <td>-0.315958</td>\n",
       "      <td>0.247607</td>\n",
       "      <td>-0.592257</td>\n",
       "      <td>0.850345</td>\n",
       "      <td>0.582349</td>\n",
       "      <td>-1.241383</td>\n",
       "      <td>-2.140711</td>\n",
       "      <td>1.949871</td>\n",
       "      <td>-1.161485</td>\n",
       "    </tr>\n",
       "    <tr>\n",
       "      <th>2</th>\n",
       "      <td>2.541411</td>\n",
       "      <td>-0.001318</td>\n",
       "      <td>-1.259475</td>\n",
       "      <td>1.266051</td>\n",
       "      <td>0.410154</td>\n",
       "      <td>0.618428</td>\n",
       "      <td>-2.482760</td>\n",
       "      <td>-0.016285</td>\n",
       "      <td>-0.897683</td>\n",
       "      <td>-0.341515</td>\n",
       "    </tr>\n",
       "    <tr>\n",
       "      <th>3</th>\n",
       "      <td>-0.517721</td>\n",
       "      <td>-0.303706</td>\n",
       "      <td>0.516967</td>\n",
       "      <td>1.245761</td>\n",
       "      <td>-0.386035</td>\n",
       "      <td>-1.893332</td>\n",
       "      <td>0.051888</td>\n",
       "      <td>1.038832</td>\n",
       "      <td>-0.221893</td>\n",
       "      <td>-1.402935</td>\n",
       "    </tr>\n",
       "    <tr>\n",
       "      <th>4</th>\n",
       "      <td>0.469104</td>\n",
       "      <td>0.892582</td>\n",
       "      <td>0.120734</td>\n",
       "      <td>-0.059092</td>\n",
       "      <td>0.052432</td>\n",
       "      <td>-0.723797</td>\n",
       "      <td>0.205125</td>\n",
       "      <td>0.144917</td>\n",
       "      <td>0.561664</td>\n",
       "      <td>-0.161297</td>\n",
       "    </tr>\n",
       "    <tr>\n",
       "      <th>...</th>\n",
       "      <td>...</td>\n",
       "      <td>...</td>\n",
       "      <td>...</td>\n",
       "      <td>...</td>\n",
       "      <td>...</td>\n",
       "      <td>...</td>\n",
       "      <td>...</td>\n",
       "      <td>...</td>\n",
       "      <td>...</td>\n",
       "      <td>...</td>\n",
       "    </tr>\n",
       "    <tr>\n",
       "      <th>745</th>\n",
       "      <td>-0.501103</td>\n",
       "      <td>-1.071328</td>\n",
       "      <td>-0.358999</td>\n",
       "      <td>0.190474</td>\n",
       "      <td>0.428289</td>\n",
       "      <td>-0.024997</td>\n",
       "      <td>-0.092291</td>\n",
       "      <td>2.750624</td>\n",
       "      <td>-0.638727</td>\n",
       "      <td>-1.767103</td>\n",
       "    </tr>\n",
       "    <tr>\n",
       "      <th>746</th>\n",
       "      <td>1.980353</td>\n",
       "      <td>-0.474389</td>\n",
       "      <td>-0.852337</td>\n",
       "      <td>0.282675</td>\n",
       "      <td>2.737826</td>\n",
       "      <td>0.045941</td>\n",
       "      <td>0.681216</td>\n",
       "      <td>1.931985</td>\n",
       "      <td>-0.380608</td>\n",
       "      <td>1.054061</td>\n",
       "    </tr>\n",
       "    <tr>\n",
       "      <th>747</th>\n",
       "      <td>-0.689430</td>\n",
       "      <td>0.490613</td>\n",
       "      <td>0.740925</td>\n",
       "      <td>1.264753</td>\n",
       "      <td>0.612700</td>\n",
       "      <td>-0.824682</td>\n",
       "      <td>0.608645</td>\n",
       "      <td>0.072250</td>\n",
       "      <td>1.452444</td>\n",
       "      <td>-0.185896</td>\n",
       "    </tr>\n",
       "    <tr>\n",
       "      <th>748</th>\n",
       "      <td>0.744939</td>\n",
       "      <td>1.006676</td>\n",
       "      <td>-0.542406</td>\n",
       "      <td>0.706673</td>\n",
       "      <td>1.416017</td>\n",
       "      <td>-2.599660</td>\n",
       "      <td>0.389059</td>\n",
       "      <td>-1.045527</td>\n",
       "      <td>-0.116808</td>\n",
       "      <td>0.037301</td>\n",
       "    </tr>\n",
       "    <tr>\n",
       "      <th>749</th>\n",
       "      <td>1.917989</td>\n",
       "      <td>0.463252</td>\n",
       "      <td>0.195063</td>\n",
       "      <td>0.361181</td>\n",
       "      <td>-0.227096</td>\n",
       "      <td>-0.693606</td>\n",
       "      <td>0.209228</td>\n",
       "      <td>-0.237847</td>\n",
       "      <td>-0.596800</td>\n",
       "      <td>2.882917</td>\n",
       "    </tr>\n",
       "  </tbody>\n",
       "</table>\n",
       "<p>750 rows × 10 columns</p>\n",
       "</div>"
      ],
      "text/plain": [
       "            0         1         2         3         4         5         6  \\\n",
       "0    1.857179  1.363183  0.797154 -0.981250  0.273640 -0.299684 -2.068569   \n",
       "1    0.739978 -0.315958  0.247607 -0.592257  0.850345  0.582349 -1.241383   \n",
       "2    2.541411 -0.001318 -1.259475  1.266051  0.410154  0.618428 -2.482760   \n",
       "3   -0.517721 -0.303706  0.516967  1.245761 -0.386035 -1.893332  0.051888   \n",
       "4    0.469104  0.892582  0.120734 -0.059092  0.052432 -0.723797  0.205125   \n",
       "..        ...       ...       ...       ...       ...       ...       ...   \n",
       "745 -0.501103 -1.071328 -0.358999  0.190474  0.428289 -0.024997 -0.092291   \n",
       "746  1.980353 -0.474389 -0.852337  0.282675  2.737826  0.045941  0.681216   \n",
       "747 -0.689430  0.490613  0.740925  1.264753  0.612700 -0.824682  0.608645   \n",
       "748  0.744939  1.006676 -0.542406  0.706673  1.416017 -2.599660  0.389059   \n",
       "749  1.917989  0.463252  0.195063  0.361181 -0.227096 -0.693606  0.209228   \n",
       "\n",
       "            7         8         9  \n",
       "0   -0.119699 -0.154144 -1.541841  \n",
       "1   -2.140711  1.949871 -1.161485  \n",
       "2   -0.016285 -0.897683 -0.341515  \n",
       "3    1.038832 -0.221893 -1.402935  \n",
       "4    0.144917  0.561664 -0.161297  \n",
       "..        ...       ...       ...  \n",
       "745  2.750624 -0.638727 -1.767103  \n",
       "746  1.931985 -0.380608  1.054061  \n",
       "747  0.072250  1.452444 -0.185896  \n",
       "748 -1.045527 -0.116808  0.037301  \n",
       "749 -0.237847 -0.596800  2.882917  \n",
       "\n",
       "[750 rows x 10 columns]"
      ]
     },
     "execution_count": 2,
     "metadata": {},
     "output_type": "execute_result"
    }
   ],
   "source": [
    "# Generate a random regression dataset\n",
    "X, y = make_regression(n_samples=1000, n_features=10, noise=100)\n",
    "\n",
    "# Split the data into traing and testing sets\n",
    "X_train, X_test, y_train, y_test = train_test_split(X, y, random_state=42)\n",
    "pd.DataFrame(X_train)"
   ]
  },
  {
   "cell_type": "markdown",
   "metadata": {},
   "source": [
    "## Hyperparameter Tuning"
   ]
  },
  {
   "cell_type": "markdown",
   "metadata": {},
   "source": [
    "### Method 1 - Grid Search Inside a Pipe"
   ]
  },
  {
   "cell_type": "code",
   "execution_count": 3,
   "metadata": {},
   "outputs": [
    {
     "data": {
      "text/plain": [
       "0.5860422973039143"
      ]
     },
     "execution_count": 3,
     "metadata": {},
     "output_type": "execute_result"
    }
   ],
   "source": [
    "# Define a dictionary of hyperparameters to search over\n",
    "param_grid = {\n",
    "    'copy_X': [True, False],\n",
    "    'fit_intercept': [True, False]\n",
    "}\n",
    "\n",
    "# Perform a grid search with cross-validation\n",
    "grid = GridSearchCV(LinearRegression(), param_grid, cv=5)\n",
    "\n",
    "# Defining our pipeline and steps\n",
    "p1 = Pipeline([\n",
    "    (\"Scaler\", StandardScaler()),\n",
    "    (\"Linear Regression\", grid)\n",
    "])\n",
    "\n",
    "# Fit and score the pipeline\n",
    "p1.fit(X_train, y_train)\n",
    "p1.score(X_test, y_test)"
   ]
  },
  {
   "cell_type": "markdown",
   "metadata": {},
   "source": [
    "### Method 2 - Pipe Inside a Grid Search"
   ]
  },
  {
   "cell_type": "code",
   "execution_count": 4,
   "metadata": {},
   "outputs": [
    {
     "data": {
      "text/plain": [
       "0.5860422973039143"
      ]
     },
     "execution_count": 4,
     "metadata": {},
     "output_type": "execute_result"
    }
   ],
   "source": [
    "# Defining our pipeline and steps\n",
    "p2 = Pipeline([\n",
    "    (\"Scaler\", StandardScaler()),\n",
    "    (\"Linear Regression\", LinearRegression())\n",
    "])\n",
    "\n",
    "# Define a dictionary of hyperparameters to search over\n",
    "param_grid = {\n",
    "    'Linear Regression__copy_X': [True, False],\n",
    "    'Linear Regression__fit_intercept': [True, False]\n",
    "}\n",
    "\n",
    "# Perform a grid search with cross-validation\n",
    "grid = GridSearchCV(p2, param_grid, cv=5)\n",
    "\n",
    "# Fit and score the pipeline\n",
    "grid.fit(X_train, y_train)\n",
    "grid.score(X_test, y_test)"
   ]
  },
  {
   "cell_type": "markdown",
   "metadata": {},
   "source": [
    "## Tuning the Pipeline"
   ]
  },
  {
   "cell_type": "markdown",
   "metadata": {},
   "source": [
    "### Generating More Synthetic Data"
   ]
  },
  {
   "cell_type": "code",
   "execution_count": 5,
   "metadata": {},
   "outputs": [
    {
     "data": {
      "image/png": "[encoded data removed]",
      "text/plain": [
       "<Figure size 1080x720 with 1 Axes>"
      ]
     },
     "metadata": {},
     "output_type": "display_data"
    }
   ],
   "source": [
    "import numpy as np\n",
    "import random as rn\n",
    "\n",
    "def y_f(x):\n",
    "    return (0.5 * (x**2)) + (2 * x) + 6\n",
    "\n",
    "X = np.arange(222)\n",
    "y = [y_f(x)+rn.randint(-2000,2000) for x in X]\n",
    "\n",
    "# Plotting the dummy data\n",
    "plt.figure(facecolor='gray', figsize=(15,10)).set_alpha(0.0)\n",
    "ax = plt.axes()\n",
    "ax.set_facecolor(\"gray\")\n",
    "ax.set_alpha(0.0)\n",
    "\n",
    "plt.scatter(X, y, c='red', marker=\"o\")\n",
    "plt.show()"
   ]
  },
  {
   "cell_type": "code",
   "execution_count": 6,
   "metadata": {},
   "outputs": [],
   "source": [
    "# Split the data into traing and testing sets\n",
    "X_train, X_test, y_train, y_test = train_test_split(X, y, random_state=42)"
   ]
  },
  {
   "cell_type": "markdown",
   "metadata": {},
   "source": [
    "### Building a New Pipeline"
   ]
  },
  {
   "cell_type": "code",
   "execution_count": 7,
   "metadata": {},
   "outputs": [],
   "source": [
    "# Import PolynomialFeatures to help fit the linear model to the curve\n",
    "from sklearn.preprocessing import PolynomialFeatures\n",
    "from sklearn.preprocessing import FunctionTransformer\n",
    "\n",
    "# Creating a reshape function\n",
    "def reshape(X):\n",
    "    return X.reshape(-1, 1)\n",
    "\n",
    "# Defining a new pipeline\n",
    "steps = [\n",
    "    (\"Reshape\", FunctionTransformer(reshape)),\n",
    "    (\"Scaler\", StandardScaler()),\n",
    "    (\"PolynomialFeatures\", PolynomialFeatures()),\n",
    "    (\"Linear Regression\", LinearRegression())\n",
    "]\n",
    "p3 = Pipeline(steps)"
   ]
  },
  {
   "cell_type": "markdown",
   "metadata": {},
   "source": [
    "### Executing a Grid Search Over the New Pipeline"
   ]
  },
  {
   "cell_type": "code",
   "execution_count": 8,
   "metadata": {},
   "outputs": [
    {
     "data": {
      "text/plain": [
       "0.9671960264177579"
      ]
     },
     "execution_count": 8,
     "metadata": {},
     "output_type": "execute_result"
    }
   ],
   "source": [
    "# Define a dictionary of hyperparameters for both the model and pipeline steps.\n",
    "param_grid = {\n",
    "    'Scaler__with_mean': [True, False],\n",
    "    'Scaler__with_std': [True, False],\n",
    "    'PolynomialFeatures__degree': np.arange(1,4),\n",
    "    'PolynomialFeatures__interaction_only': [True, False],\n",
    "    'PolynomialFeatures__include_bias': [True, False],\n",
    "    'PolynomialFeatures__order': ['C', 'F'],\n",
    "    'Linear Regression__copy_X': [True, False],\n",
    "    'Linear Regression__fit_intercept': [True, False]\n",
    "}\n",
    "\n",
    "# Perform a grid search with cross-validation\n",
    "grid = GridSearchCV(p3, param_grid, cv=5)\n",
    "\n",
    "# Fit and score the pipeline\n",
    "grid.fit(X_train, y_train)\n",
    "grid.score(X_test, y_test)"
   ]
  },
  {
   "cell_type": "code",
   "execution_count": null,
   "metadata": {},
   "outputs": [],
   "source": []
  }
 ],
 "metadata": {
  "kernelspec": {
   "display_name": "Python 3 (ipykernel)",
   "language": "python",
   "name": "python3"
  },
  "language_info": {
   "codemirror_mode": {
    "name": "ipython",
    "version": 3
   },
   "file_extension": ".py",
   "mimetype": "text/x-python",
   "name": "python",
   "nbconvert_exporter": "python",
   "pygments_lexer": "ipython3",
   "version": "3.9.5"
  },
  "vscode": {
   "interpreter": {
    "hash": "81794d4967e6c3204c66dcd87b604927b115b27c00565d3d43f05ba2f3a2cb0d"
   }
  }
 },
 "nbformat": 4,
 "nbformat_minor": 4
}
